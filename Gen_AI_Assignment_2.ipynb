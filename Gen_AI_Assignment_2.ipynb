{
  "nbformat": 4,
  "nbformat_minor": 0,
  "metadata": {
    "colab": {
      "provenance": [],
      "authorship_tag": "ABX9TyMxY23uXNjz3Meq1DRERrdq",
      "include_colab_link": true
    },
    "kernelspec": {
      "name": "python3",
      "display_name": "Python 3"
    },
    "language_info": {
      "name": "python"
    }
  },
  "cells": [
    {
      "cell_type": "markdown",
      "metadata": {
        "id": "view-in-github",
        "colab_type": "text"
      },
      "source": [
        "<a href=\"https://colab.research.google.com/github/2303A52247/Gen-AI/blob/main/Gen_AI_Assignment_2.ipynb\" target=\"_parent\"><img src=\"https://colab.research.google.com/assets/colab-badge.svg\" alt=\"Open In Colab\"/></a>"
      ]
    },
    {
      "cell_type": "code",
      "execution_count": 4,
      "metadata": {
        "colab": {
          "base_uri": "https://localhost:8080/"
        },
        "id": "dGNHD_seGCys",
        "outputId": "088e3102-a316-442a-b6ed-64f3de904155"
      },
      "outputs": [
        {
          "output_type": "stream",
          "name": "stdout",
          "text": [
            "Requirement already satisfied: scipy in /usr/local/lib/python3.11/dist-packages (1.13.1)\n",
            "Requirement already satisfied: numpy<2.3,>=1.22.4 in /usr/local/lib/python3.11/dist-packages (from scipy) (1.26.4)\n"
          ]
        }
      ],
      "source": [
        "pip install scipy"
      ]
    },
    {
      "cell_type": "code",
      "source": [
        "from scipy.optimize import linprog\n",
        "\n",
        "c = [-6, -5]\n",
        "A = [\n",
        "    [1, 1],\n",
        "    [3, 2]\n",
        "]\n",
        "b = [5, 12]\n",
        "x_bounds = (0, None)\n",
        "result = linprog(c, A_ub=A, b_ub=b, bounds=[x_bounds, x_bounds], method='highs')\n",
        "\n",
        "if result.success:\n",
        "    x1, x2 = result.x\n",
        "    max_profit = -result.fun\n",
        "    print(f\"Optimal Production: A = {x1:.0f}, B = {x2:.0f}\")\n",
        "    print(f\"Maximum Profit: Rs {max_profit:.2f}\")\n",
        "else:\n",
        "    print(\"Optimization failed. Reason:\", result.message)\n"
      ],
      "metadata": {
        "colab": {
          "base_uri": "https://localhost:8080/"
        },
        "id": "LgFSbqG1GRzX",
        "outputId": "2e27bd1c-87e8-4b40-c705-820047709b05"
      },
      "execution_count": 2,
      "outputs": [
        {
          "output_type": "stream",
          "name": "stdout",
          "text": [
            "Optimal Production: A = 2, B = 3\n",
            "Maximum Profit: Rs 27.00\n"
          ]
        }
      ]
    },
    {
      "cell_type": "code",
      "source": [
        "\n",
        "from scipy.optimize import linprog\n",
        "\n",
        "c = [-50, -120]\n",
        "A = [\n",
        "    [1, 1],\n",
        "    [7000, 2000],\n",
        "    [10, 30]\n",
        "]\n",
        "b = [110, 700000, 1200]\n",
        "x_bounds = (0, None)\n",
        "result = linprog(c, A_ub=A, b_ub=b, bounds=[x_bounds, x_bounds], method='highs')\n",
        "if result.success:\n",
        "    x1, x2 = result.x\n",
        "    max_profit = -result.fun\n",
        "    print(f\"Optimal Planting: Wheat = {x1:.2f} hectares, Barley = {x2:.2f} hectares\")\n",
        "    print(f\"Maximum Profit: Rs {max_profit:.2f}\")\n",
        "else:\n",
        "    print(\"Optimization failed. Reason:\", result.message)"
      ],
      "metadata": {
        "colab": {
          "base_uri": "https://localhost:8080/"
        },
        "id": "BTc1nlBZGgD3",
        "outputId": "b6248fb5-0c55-4833-c01c-429b092836a5"
      },
      "execution_count": 3,
      "outputs": [
        {
          "output_type": "stream",
          "name": "stdout",
          "text": [
            "Optimal Planting: Wheat = 97.89 hectares, Barley = 7.37 hectares\n",
            "Maximum Profit: Rs 5778.95\n"
          ]
        }
      ]
    }
  ]
}