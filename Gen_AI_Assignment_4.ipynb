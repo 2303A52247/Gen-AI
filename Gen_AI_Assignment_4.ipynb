{
  "nbformat": 4,
  "nbformat_minor": 0,
  "metadata": {
    "colab": {
      "provenance": [],
      "authorship_tag": "ABX9TyPaWUb6pVopkD8eNXrd0sbJ",
      "include_colab_link": true
    },
    "kernelspec": {
      "name": "python3",
      "display_name": "Python 3"
    },
    "language_info": {
      "name": "python"
    }
  },
  "cells": [
    {
      "cell_type": "markdown",
      "metadata": {
        "id": "view-in-github",
        "colab_type": "text"
      },
      "source": [
        "<a href=\"https://colab.research.google.com/github/2303A52247/Gen-AI/blob/main/Gen_AI_Assignment_4.ipynb\" target=\"_parent\"><img src=\"https://colab.research.google.com/assets/colab-badge.svg\" alt=\"Open In Colab\"/></a>"
      ]
    },
    {
      "cell_type": "code",
      "execution_count": 1,
      "metadata": {
        "colab": {
          "base_uri": "https://localhost:8080/"
        },
        "id": "wS3caU88J-iJ",
        "outputId": "840c5190-8f9d-4705-b88d-26675a581c6a"
      },
      "outputs": [
        {
          "output_type": "stream",
          "name": "stdout",
          "text": [
            "Epoch 0: Loss = 0.14113428366605063\n",
            "Epoch 100: Loss = 0.009061666538959762\n",
            "Epoch 200: Loss = 0.0035778164748939173\n",
            "Epoch 300: Loss = 0.002299484581977698\n",
            "Epoch 400: Loss = 0.0019506098476700755\n",
            "Epoch 500: Loss = 0.00180973088687958\n",
            "Epoch 600: Loss = 0.0017176402048634277\n",
            "Epoch 700: Loss = 0.0016390475605940202\n",
            "Epoch 800: Loss = 0.001566022285148798\n",
            "Epoch 900: Loss = 0.001496690661139874\n",
            "Test Loss (MSE): 0.005261398750508811\n",
            "Enter value for x1: 0.8\n",
            "Enter value for x2: 0.6\n",
            "Enter value for x3: 0.4\n",
            "Predicted output: [0.02029769]\n"
          ]
        }
      ],
      "source": [
        "import numpy as np\n",
        "X_train = np.array([[0.1, 0.2, 0.3],\n",
        "                    [0.2, 0.3, 0.4],\n",
        "                    [0.3, 0.4, 0.5],\n",
        "                    [0.5, 0.6, 0.7],\n",
        "                    [0.1, 0.3, 0.5],\n",
        "                    [0.2, 0.4, 0.6],\n",
        "                    [0.3, 0.5, 0.7],\n",
        "                    [0.4, 0.6, 0.8],\n",
        "                    [0.5, 0.7, 0.1]])\n",
        "y_train = np.array([0.14, 0.20, 0.26, 0.38, 0.22, 0.28, 0.34, 0.40, 0.22])\n",
        "X_test = np.array([[0.6, 0.7, 0.8],\n",
        "                   [0.7, 0.8, 0.9]])\n",
        "y_test = np.array([0.44, 0.50])\n",
        "learning_rate = 0.1\n",
        "epochs = 1000\n",
        "weights = np.random.randn(3)\n",
        "bias = np.random.randn(1)\n",
        "def mse_loss(y_true, y_pred):\n",
        "    return np.mean((y_true - y_pred)**2)\n",
        "for epoch in range(epochs):\n",
        "    y_pred = X_train.dot(weights) + bias\n",
        "    loss = mse_loss(y_train, y_pred)\n",
        "    d_loss_w = -2 * X_train.T.dot(y_train - y_pred) / len(y_train)\n",
        "    d_loss_b = -2 * np.sum(y_train - y_pred) / len(y_train)\n",
        "    weights -= learning_rate * d_loss_w\n",
        "    bias -= learning_rate * d_loss_b\n",
        "    if epoch % 100 == 0:\n",
        "        print(f\"Epoch {epoch}: Loss = {loss}\")\n",
        "y_test_pred = X_test.dot(weights) + bias\n",
        "test_loss = mse_loss(y_test, y_test_pred)\n",
        "print(f\"Test Loss (MSE): {test_loss}\")\n",
        "def predict(x1, x2, x3):\n",
        "    return np.dot([x1, x2, x3], weights) + bias\n",
        "x1 = float(input(\"Enter value for x1: \"))\n",
        "x2 = float(input(\"Enter value for x2: \"))\n",
        "x3 = float(input(\"Enter value for x3: \"))\n",
        "output = predict(x1, x2, x3)\n",
        "print(f\"Predicted output: {output}\")"
      ]
    },
    {
      "cell_type": "code",
      "source": [
        "import numpy as np\n",
        "X_train = np.array([[0.1, 0.2, 0.3],\n",
        "                    [0.2, 0.3, 0.4],\n",
        "                    [0.3, 0.4, 0.5],\n",
        "                    [0.5, 0.6, 0.7],\n",
        "                    [0.1, 0.3, 0.5],\n",
        "                    [0.2, 0.4, 0.6],\n",
        "                    [0.3, 0.5, 0.7],\n",
        "                    [0.4, 0.6, 0.8],\n",
        "                    [0.5, 0.7, 0.1]])\n",
        "y_train = np.array([0.5349, 0.5498, 0.5646, 0.5939, 0.5548, 0.5695, 0.5842, 0.5987, 0.5548])\n",
        "X_test = np.array([[0.6, 0.7, 0.8],\n",
        "                   [0.7, 0.8, 0.9]])\n",
        "y_test = np.array([0.6083, 0.6225])\n",
        "def sigmoid(x):\n",
        "    return 1 / (1 + np.exp(-x))\n",
        "def sigmoid_derivative(x):\n",
        "    return x * (1 - x)\n",
        "weights = np.random.randn(3)\n",
        "bias = np.random.randn(1)\n",
        "learning_rate = 0.1\n",
        "epochs = 10000\n",
        "for epoch in range(epochs):\n",
        "    z = np.dot(X_train, weights) + bias\n",
        "    y_pred = sigmoid(z)\n",
        "    error = y_pred - y_train\n",
        "    loss = np.mean(error**2)\n",
        "    d_loss = error\n",
        "    d_sigmoid = sigmoid_derivative(y_pred)\n",
        "    d_loss_w = np.dot(X_train.T, d_loss * d_sigmoid) / len(X_train)\n",
        "    d_loss_b = np.sum(d_loss * d_sigmoid) / len(X_train)\n",
        "    weights -= learning_rate * d_loss_w\n",
        "    bias -= learning_rate * d_loss_b\n",
        "    if epoch % 1000 == 0:\n",
        "        print(f\"Epoch {epoch}, Loss: {loss}\")\n",
        "z_test = np.dot(X_test, weights) + bias\n",
        "y_test_pred = sigmoid(z_test)\n",
        "test_loss = np.mean((y_test - y_test_pred) ** 2)\n",
        "print(f\"Test Loss (MSE): {test_loss}\")\n",
        "def predict(x1, x2, x3):\n",
        "    z = np.dot([x1, x2, x3], weights) + bias\n",
        "    return sigmoid(z)\n",
        "x1 = float(input(\"Enter value for x1: \"))\n",
        "x2 = float(input(\"Enter value for x2: \"))\n",
        "x3 = float(input(\"Enter value for x3: \"))\n",
        "output = predict(x1, x2, x3)\n",
        "print(f\"Predicted output: {output}\")"
      ],
      "metadata": {
        "colab": {
          "base_uri": "https://localhost:8080/"
        },
        "id": "kgYN1WnZKvwD",
        "outputId": "6b1ee090-e201-40e4-b64b-8d405d9dcde3"
      },
      "execution_count": 2,
      "outputs": [
        {
          "output_type": "stream",
          "name": "stdout",
          "text": [
            "Epoch 0, Loss: 0.19067586982056828\n",
            "Epoch 1000, Loss: 0.0027578917697479483\n",
            "Epoch 2000, Loss: 0.0018863925771602508\n",
            "Epoch 3000, Loss: 0.0012765747685040921\n",
            "Epoch 4000, Loss: 0.0008600192223982914\n",
            "Epoch 5000, Loss: 0.0005806137951742822\n",
            "Epoch 6000, Loss: 0.000395675556039032\n",
            "Epoch 7000, Loss: 0.0002744025465799464\n",
            "Epoch 8000, Loss: 0.00019536780198917378\n",
            "Epoch 9000, Loss: 0.00014404272563298918\n",
            "Test Loss (MSE): 1.3627764641532424e-05\n",
            "Enter value for x1: 0.9\n",
            "Enter value for x2: 0.9\n",
            "Enter value for x3: 0.9\n",
            "Predicted output: [0.61968823]\n"
          ]
        }
      ]
    }
  ]
}