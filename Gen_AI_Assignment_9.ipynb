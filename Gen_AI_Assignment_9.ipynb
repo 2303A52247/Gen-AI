{
  "nbformat": 4,
  "nbformat_minor": 0,
  "metadata": {
    "colab": {
      "provenance": [],
      "authorship_tag": "ABX9TyOdWDkOayY3s37PtxMe2Jt6",
      "include_colab_link": true
    },
    "kernelspec": {
      "name": "python3",
      "display_name": "Python 3"
    },
    "language_info": {
      "name": "python"
    }
  },
  "cells": [
    {
      "cell_type": "markdown",
      "metadata": {
        "id": "view-in-github",
        "colab_type": "text"
      },
      "source": [
        "<a href=\"https://colab.research.google.com/github/2303A52247/Gen-AI/blob/main/Gen_AI_Assignment_9.ipynb\" target=\"_parent\"><img src=\"https://colab.research.google.com/assets/colab-badge.svg\" alt=\"Open In Colab\"/></a>"
      ]
    },
    {
      "cell_type": "code",
      "execution_count": 1,
      "metadata": {
        "colab": {
          "base_uri": "https://localhost:8080/"
        },
        "id": "nzpZbNTWcunq",
        "outputId": "e9810f8e-786b-49b6-d07a-d345cb4cb7d4"
      },
      "outputs": [
        {
          "output_type": "stream",
          "name": "stdout",
          "text": [
            "Downloading data from https://storage.googleapis.com/tensorflow/tf-keras-datasets/mnist.npz\n",
            "\u001b[1m11490434/11490434\u001b[0m \u001b[32m━━━━━━━━━━━━━━━━━━━━\u001b[0m\u001b[37m\u001b[0m \u001b[1m0s\u001b[0m 0us/step\n"
          ]
        }
      ],
      "source": [
        "import numpy as np\n",
        "from tensorflow.keras.datasets import mnist\n",
        "from tensorflow.keras.models import Sequential\n",
        "from tensorflow.keras.layers import Dense, Flatten\n",
        "from tensorflow.keras.utils import to_categorical\n",
        "from tensorflow.keras.optimizers import Adadelta\n",
        "\n",
        "# Load MNIST data\n",
        "(x_train, y_train), (x_test, y_test) = mnist.load_data()\n",
        "\n",
        "# Normalize input data\n",
        "x_train = x_train / 255.0\n",
        "x_test = x_test / 255.0\n",
        "\n",
        "# One-hot encode labels\n",
        "y_train = to_categorical(y_train, 10)\n",
        "y_test = to_categorical(y_test, 10)\n"
      ]
    },
    {
      "cell_type": "code",
      "source": [
        "def create_base_model():\n",
        "    model = Sequential([\n",
        "        Flatten(input_shape=(28, 28)),\n",
        "        Dense(32, activation='relu'),\n",
        "        Dense(32, activation='relu'),\n",
        "        Dense(32, activation='relu'),\n",
        "        Dense(10, activation='softmax')\n",
        "    ])\n",
        "    model.compile(optimizer=Adadelta(),\n",
        "                  loss='categorical_crossentropy',\n",
        "                  metrics=['accuracy'])\n",
        "    return model\n",
        "\n",
        "# Train and evaluate base model\n",
        "base_model = create_base_model()\n",
        "history = base_model.fit(x_train, y_train, epochs=10, batch_size=128, verbose=1, validation_data=(x_test, y_test))\n"
      ],
      "metadata": {
        "colab": {
          "base_uri": "https://localhost:8080/"
        },
        "id": "MVmH9NQIdBZV",
        "outputId": "9d2636cc-555d-4351-cbcd-ffd846d4c8d5"
      },
      "execution_count": 2,
      "outputs": [
        {
          "output_type": "stream",
          "name": "stderr",
          "text": [
            "/usr/local/lib/python3.11/dist-packages/keras/src/layers/reshaping/flatten.py:37: UserWarning: Do not pass an `input_shape`/`input_dim` argument to a layer. When using Sequential models, prefer using an `Input(shape)` object as the first layer in the model instead.\n",
            "  super().__init__(**kwargs)\n"
          ]
        },
        {
          "output_type": "stream",
          "name": "stdout",
          "text": [
            "Epoch 1/10\n",
            "\u001b[1m469/469\u001b[0m \u001b[32m━━━━━━━━━━━━━━━━━━━━\u001b[0m\u001b[37m\u001b[0m \u001b[1m3s\u001b[0m 4ms/step - accuracy: 0.0797 - loss: 2.3265 - val_accuracy: 0.0818 - val_loss: 2.3162\n",
            "Epoch 2/10\n",
            "\u001b[1m469/469\u001b[0m \u001b[32m━━━━━━━━━━━━━━━━━━━━\u001b[0m\u001b[37m\u001b[0m \u001b[1m2s\u001b[0m 4ms/step - accuracy: 0.0945 - loss: 2.3138 - val_accuracy: 0.1006 - val_loss: 2.3028\n",
            "Epoch 3/10\n",
            "\u001b[1m469/469\u001b[0m \u001b[32m━━━━━━━━━━━━━━━━━━━━\u001b[0m\u001b[37m\u001b[0m \u001b[1m3s\u001b[0m 5ms/step - accuracy: 0.1125 - loss: 2.2999 - val_accuracy: 0.1233 - val_loss: 2.2897\n",
            "Epoch 4/10\n",
            "\u001b[1m469/469\u001b[0m \u001b[32m━━━━━━━━━━━━━━━━━━━━\u001b[0m\u001b[37m\u001b[0m \u001b[1m3s\u001b[0m 5ms/step - accuracy: 0.1335 - loss: 2.2871 - val_accuracy: 0.1422 - val_loss: 2.2769\n",
            "Epoch 5/10\n",
            "\u001b[1m469/469\u001b[0m \u001b[32m━━━━━━━━━━━━━━━━━━━━\u001b[0m\u001b[37m\u001b[0m \u001b[1m2s\u001b[0m 4ms/step - accuracy: 0.1533 - loss: 2.2740 - val_accuracy: 0.1614 - val_loss: 2.2643\n",
            "Epoch 6/10\n",
            "\u001b[1m469/469\u001b[0m \u001b[32m━━━━━━━━━━━━━━━━━━━━\u001b[0m\u001b[37m\u001b[0m \u001b[1m2s\u001b[0m 4ms/step - accuracy: 0.1697 - loss: 2.2618 - val_accuracy: 0.1782 - val_loss: 2.2519\n",
            "Epoch 7/10\n",
            "\u001b[1m469/469\u001b[0m \u001b[32m━━━━━━━━━━━━━━━━━━━━\u001b[0m\u001b[37m\u001b[0m \u001b[1m2s\u001b[0m 3ms/step - accuracy: 0.1837 - loss: 2.2486 - val_accuracy: 0.1924 - val_loss: 2.2395\n",
            "Epoch 8/10\n",
            "\u001b[1m469/469\u001b[0m \u001b[32m━━━━━━━━━━━━━━━━━━━━\u001b[0m\u001b[37m\u001b[0m \u001b[1m3s\u001b[0m 3ms/step - accuracy: 0.1938 - loss: 2.2372 - val_accuracy: 0.2036 - val_loss: 2.2271\n",
            "Epoch 9/10\n",
            "\u001b[1m469/469\u001b[0m \u001b[32m━━━━━━━━━━━━━━━━━━━━\u001b[0m\u001b[37m\u001b[0m \u001b[1m2s\u001b[0m 4ms/step - accuracy: 0.2071 - loss: 2.2231 - val_accuracy: 0.2118 - val_loss: 2.2146\n",
            "Epoch 10/10\n",
            "\u001b[1m469/469\u001b[0m \u001b[32m━━━━━━━━━━━━━━━━━━━━\u001b[0m\u001b[37m\u001b[0m \u001b[1m3s\u001b[0m 4ms/step - accuracy: 0.2120 - loss: 2.2124 - val_accuracy: 0.2206 - val_loss: 2.2020\n"
          ]
        }
      ]
    },
    {
      "cell_type": "code",
      "source": [
        "# Training accuracy\n",
        "train_acc = history.history['accuracy'][-1]\n",
        "# Testing accuracy\n",
        "test_acc = history.history['val_accuracy'][-1]\n",
        "\n",
        "print(f\"Training Accuracy: {train_acc:.4f}\")\n",
        "print(f\"Testing Accuracy: {test_acc:.4f}\")\n"
      ],
      "metadata": {
        "colab": {
          "base_uri": "https://localhost:8080/"
        },
        "id": "IhjqktX7d60o",
        "outputId": "aa9bf68e-295d-425c-c22f-89f8a6992c88"
      },
      "execution_count": 3,
      "outputs": [
        {
          "output_type": "stream",
          "name": "stdout",
          "text": [
            "Training Accuracy: 0.2160\n",
            "Testing Accuracy: 0.2206\n"
          ]
        }
      ]
    },
    {
      "cell_type": "code",
      "source": [
        "def create_tuned_model(hidden_layers=2, neurons=64, activation='relu'):\n",
        "    model = Sequential()\n",
        "    model.add(Flatten(input_shape=(28, 28)))\n",
        "    for _ in range(hidden_layers):\n",
        "        model.add(Dense(neurons, activation=activation))\n",
        "    model.add(Dense(10, activation='softmax'))\n",
        "    model.compile(optimizer=Adadelta(),\n",
        "                  loss='categorical_crossentropy',\n",
        "                  metrics=['accuracy'])\n",
        "    return model\n",
        "\n",
        "# Try a few different configurations\n",
        "configs = [\n",
        "    (2, 64, 'relu'),\n",
        "    (3, 128, 'relu'),\n",
        "    (2, 64, 'tanh'),\n",
        "    (3, 128, 'sigmoid')\n",
        "]\n",
        "\n",
        "best_accuracy = 0\n",
        "best_config = None\n",
        "\n",
        "for hl, n, act in configs:\n",
        "    print(f\"\\nTraining model with {hl} layers, {n} neurons, {act} activation\")\n",
        "    model = create_tuned_model(hidden_layers=hl, neurons=n, activation=act)\n",
        "    history = model.fit(x_train, y_train, epochs=10, batch_size=128, verbose=0, validation_data=(x_test, y_test))\n",
        "    acc = history.history['val_accuracy'][-1]\n",
        "    print(f\"Test Accuracy: {acc:.4f}\")\n",
        "\n",
        "    if acc > best_accuracy:\n",
        "        best_accuracy = acc\n",
        "        best_config = (hl, n, act)\n",
        "\n",
        "print(f\"\\n✅ Best architecture: {best_config} with accuracy: {best_accuracy:.4f}\")\n"
      ],
      "metadata": {
        "colab": {
          "base_uri": "https://localhost:8080/"
        },
        "id": "rti61kifd9qk",
        "outputId": "268c043f-a579-49ad-95e2-a81be125d328"
      },
      "execution_count": 4,
      "outputs": [
        {
          "output_type": "stream",
          "name": "stdout",
          "text": [
            "\n",
            "Training model with 2 layers, 64 neurons, relu activation\n",
            "Test Accuracy: 0.4196\n",
            "\n",
            "Training model with 3 layers, 128 neurons, relu activation\n",
            "Test Accuracy: 0.4558\n",
            "\n",
            "Training model with 2 layers, 64 neurons, tanh activation\n",
            "Test Accuracy: 0.5903\n",
            "\n",
            "Training model with 3 layers, 128 neurons, sigmoid activation\n",
            "Test Accuracy: 0.1135\n",
            "\n",
            "✅ Best architecture: (2, 64, 'tanh') with accuracy: 0.5903\n"
          ]
        }
      ]
    }
  ]
}